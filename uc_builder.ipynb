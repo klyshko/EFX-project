{
 "cells": [
  {
   "cell_type": "code",
   "execution_count": 61,
   "metadata": {},
   "outputs": [],
   "source": [
    "import numpy as np\n",
    "import matplotlib.pyplot as plt\n",
    "import MDAnalysis as md\n",
    "import nglview as ng"
   ]
  },
  {
   "cell_type": "code",
   "execution_count": 62,
   "metadata": {},
   "outputs": [],
   "source": [
    "u = md.Universe('../crystal_cell/unitcell.pdb')"
   ]
  },
  {
   "cell_type": "code",
   "execution_count": 63,
   "metadata": {},
   "outputs": [
    {
     "data": {
      "application/vnd.jupyter.widget-view+json": {
       "model_id": "6e8f5b21d5cb4425bf8f36084e3976fa",
       "version_major": 2,
       "version_minor": 0
      },
      "text/plain": [
       "NGLWidget()"
      ]
     },
     "metadata": {},
     "output_type": "display_data"
    },
    {
     "data": {
      "application/vnd.jupyter.widget-view+json": {
       "model_id": "ebc56ac47aec4ff4a96852b612f138ef",
       "version_major": 2,
       "version_minor": 0
      },
      "text/plain": [
       "Tab(children=(Box(children=(Box(children=(Box(children=(Label(value='step'), IntSlider(value=1, min=-100)), la…"
      ]
     },
     "metadata": {},
     "output_type": "display_data"
    }
   ],
   "source": [
    "ng.show_mdanalysis(u, gui=True)"
   ]
  },
  {
   "cell_type": "code",
   "execution_count": 4,
   "metadata": {},
   "outputs": [],
   "source": [
    "atoms = u.select_atoms(\"all\")"
   ]
  },
  {
   "cell_type": "code",
   "execution_count": 5,
   "metadata": {},
   "outputs": [],
   "source": [
    "params = [63.694000, 38.550999, 38.071999, 90.000000, 117.410004, 90.000000]"
   ]
  },
  {
   "cell_type": "code",
   "execution_count": 6,
   "metadata": {},
   "outputs": [],
   "source": [
    "a = params[0]\n",
    "b = params[1]\n",
    "c = params[2]\n",
    "\n",
    "alpha = params[3] * np.pi / 180.0\n",
    "beta = params[4] * np.pi / 180.0\n",
    "gamma = params[5] * np.pi / 180.0"
   ]
  },
  {
   "cell_type": "code",
   "execution_count": 7,
   "metadata": {},
   "outputs": [],
   "source": [
    "vec_a = np.array([a, 0.0, 0.0])\n",
    "vec_b = np.array([b * np.cos(gamma), b * np.sin(gamma), 0.0])\n",
    "vec_c = np.array([ c * np.cos(beta), c * (np.cos(alpha) - np.cos(beta) * np.cos(gamma))/(np.sin(gamma)) ,\n",
    "                  c * np.sqrt(1. - np.cos(beta)**2 - ((np.cos(alpha) - np.cos(beta) * np.cos(gamma))/(np.sin(gamma)))**2 )])"
   ]
  },
  {
   "cell_type": "code",
   "execution_count": 8,
   "metadata": {},
   "outputs": [
    {
     "data": {
      "text/plain": [
       "array([63.694,  0.   ,  0.   ])"
      ]
     },
     "execution_count": 8,
     "metadata": {},
     "output_type": "execute_result"
    }
   ],
   "source": [
    "vec_a"
   ]
  },
  {
   "cell_type": "code",
   "execution_count": 9,
   "metadata": {},
   "outputs": [
    {
     "data": {
      "text/plain": [
       "array([2.36056788e-15, 3.85509990e+01, 0.00000000e+00])"
      ]
     },
     "execution_count": 9,
     "metadata": {},
     "output_type": "execute_result"
    }
   ],
   "source": [
    "vec_b"
   ]
  },
  {
   "cell_type": "code",
   "execution_count": 10,
   "metadata": {},
   "outputs": [
    {
     "data": {
      "text/plain": [
       "array([-1.75266272e+01,  3.40443398e-15,  3.37978468e+01])"
      ]
     },
     "execution_count": 10,
     "metadata": {},
     "output_type": "execute_result"
    }
   ],
   "source": [
    "vec_c"
   ]
  },
  {
   "cell_type": "code",
   "execution_count": 55,
   "metadata": {},
   "outputs": [],
   "source": [
    "u = md.Universe('../../niagara/Rama/crystal_cell/unitcell.pdb')\n",
    "u0 = md.Universe('../../niagara/Rama/crystal_cell/unitcell.pdb')\n",
    "\n",
    "\n",
    "A = u1.add_Segment(segid='A_{}'.format(counter));\n",
    "\n",
    "trans = [-1, 0, 1]\n",
    "counter = 1\n",
    "for aa in trans:\n",
    "    for bb in trans:\n",
    "        for cc in trans:\n",
    "            if (aa, bb, cc) != (0, 0, 0): \n",
    "                u1 = md.Universe('../../niagara/Rama/crystal_cell/unitcell.pdb')\n",
    "                A = u1.add_Segment(segid='A{}{}{}'.format(aa + 1, bb + 1, cc + 1));\n",
    "                B = u1.add_Segment(segid='B{}{}{}'.format(aa + 1, bb + 1, cc + 1));\n",
    "                C = u1.add_Segment(segid='C{}{}{}'.format(aa + 1, bb + 1, cc + 1));\n",
    "                D = u1.add_Segment(segid='D{}{}{}'.format(aa + 1, bb + 1, cc + 1));\n",
    "                \n",
    "                u1.segments[0].residues.segments = A\n",
    "                u1.segments[1].residues.segments = B\n",
    "                u1.segments[2].residues.segments = C\n",
    "                u1.segments[3].residues.segments = D\n",
    "                \n",
    "                counter += 1\n",
    "                u1.atoms.positions += aa * vec_a + bb * vec_b + cc * vec_c\n",
    "                u0 = md.Merge(u0.atoms, u1.atoms)\n",
    "u0.atoms.write('../../niagara/Rama/crystal_cell/uc_{}.pdb'.format(counter))"
   ]
  },
  {
   "cell_type": "code",
   "execution_count": 56,
   "metadata": {},
   "outputs": [
    {
     "data": {
      "application/vnd.jupyter.widget-view+json": {
       "model_id": "4c51f1230a784013973ff83594468346",
       "version_major": 2,
       "version_minor": 0
      },
      "text/plain": [
       "NGLWidget()"
      ]
     },
     "metadata": {},
     "output_type": "display_data"
    },
    {
     "data": {
      "application/vnd.jupyter.widget-view+json": {
       "model_id": "bdb0aad0f99c4490b3b45a040e0e74c9",
       "version_major": 2,
       "version_minor": 0
      },
      "text/plain": [
       "Tab(children=(Box(children=(Box(children=(Box(children=(Label(value='step'), IntSlider(value=1, min=-100)), la…"
      ]
     },
     "metadata": {},
     "output_type": "display_data"
    }
   ],
   "source": [
    "ng.show_mdanalysis(u0, gui=True)"
   ]
  },
  {
   "cell_type": "code",
   "execution_count": 57,
   "metadata": {},
   "outputs": [
    {
     "data": {
      "text/plain": [
       "array(['PROA', 'P1PR', 'P2PR', 'P3PR', 'A000', 'B000', 'C000', 'D000',\n",
       "       'A001', 'B001', 'C001', 'D001', 'A002', 'B002', 'C002', 'D002',\n",
       "       'A010', 'B010', 'C010', 'D010', 'A011', 'B011', 'C011', 'D011',\n",
       "       'A012', 'B012', 'C012', 'D012', 'A020', 'B020', 'C020', 'D020',\n",
       "       'A021', 'B021', 'C021', 'D021', 'A022', 'B022', 'C022', 'D022',\n",
       "       'A100', 'B100', 'C100', 'D100', 'A101', 'B101', 'C101', 'D101',\n",
       "       'A102', 'B102', 'C102', 'D102', 'A110', 'B110', 'C110', 'D110',\n",
       "       'A112', 'B112', 'C112', 'D112', 'A120', 'B120', 'C120', 'D120',\n",
       "       'A121', 'B121', 'C121', 'D121', 'A122', 'B122', 'C122', 'D122',\n",
       "       'A200', 'B200', 'C200', 'D200', 'A201', 'B201', 'C201', 'D201',\n",
       "       'A202', 'B202', 'C202', 'D202', 'A210', 'B210', 'C210', 'D210',\n",
       "       'A211', 'B211', 'C211', 'D211', 'A212', 'B212', 'C212', 'D212',\n",
       "       'A220', 'B220', 'C220', 'D220', 'A221', 'B221', 'C221', 'D221',\n",
       "       'A222', 'B222', 'C222', 'D222'], dtype=object)"
      ]
     },
     "execution_count": 57,
     "metadata": {},
     "output_type": "execute_result"
    }
   ],
   "source": [
    "u0.segments.segids"
   ]
  },
  {
   "cell_type": "code",
   "execution_count": 58,
   "metadata": {},
   "outputs": [],
   "source": [
    "newa = a * 3\n",
    "newb = b * 3\n",
    "newc = c * 3"
   ]
  },
  {
   "cell_type": "code",
   "execution_count": 59,
   "metadata": {},
   "outputs": [],
   "source": [
    "cell = [newa, newb, newc, params[3], params[4], params[5]]"
   ]
  },
  {
   "cell_type": "code",
   "execution_count": 60,
   "metadata": {},
   "outputs": [
    {
     "data": {
      "text/plain": [
       "[191.082, 115.652997, 114.21599699999999, 90.0, 117.410004, 90.0]"
      ]
     },
     "execution_count": 60,
     "metadata": {},
     "output_type": "execute_result"
    }
   ],
   "source": [
    "cell"
   ]
  },
  {
   "cell_type": "code",
   "execution_count": null,
   "metadata": {},
   "outputs": [],
   "source": []
  }
 ],
 "metadata": {
  "kernelspec": {
   "display_name": "Python 3",
   "language": "python",
   "name": "python3"
  },
  "language_info": {
   "codemirror_mode": {
    "name": "ipython",
    "version": 3
   },
   "file_extension": ".py",
   "mimetype": "text/x-python",
   "name": "python",
   "nbconvert_exporter": "python",
   "pygments_lexer": "ipython3",
   "version": "3.6.8"
  }
 },
 "nbformat": 4,
 "nbformat_minor": 2
}
