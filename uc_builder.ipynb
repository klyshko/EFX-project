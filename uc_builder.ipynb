{
 "cells": [
  {
   "cell_type": "code",
   "execution_count": 1,
   "metadata": {},
   "outputs": [],
   "source": [
    "import numpy as np\n",
    "import matplotlib.pyplot as plt\n",
    "import MDAnalysis as md\n",
    "import nglview as ng"
   ]
  },
  {
   "cell_type": "code",
   "execution_count": 2,
   "metadata": {},
   "outputs": [],
   "source": [
    "u = md.Universe('charmm-gui/uc_289_noE_A.pdb')"
   ]
  },
  {
   "cell_type": "code",
   "execution_count": 3,
   "metadata": {},
   "outputs": [
    {
     "data": {
      "application/vnd.jupyter.widget-view+json": {
       "model_id": "a2416bf2ee424bbc898eeaa90ec0ba16",
       "version_major": 2,
       "version_minor": 0
      },
      "text/plain": [
       "NGLWidget()"
      ]
     },
     "metadata": {},
     "output_type": "display_data"
    },
    {
     "data": {
      "application/vnd.jupyter.widget-view+json": {
       "model_id": "9e189ccd040f45c5bd0f451d3c78e439",
       "version_major": 2,
       "version_minor": 0
      },
      "text/plain": [
       "Tab(children=(Box(children=(Box(children=(Box(children=(Label(value='step'), IntSlider(value=1, min=-100)), la…"
      ]
     },
     "metadata": {},
     "output_type": "display_data"
    }
   ],
   "source": [
    "ng.show_mdanalysis(u, gui=True)"
   ]
  },
  {
   "cell_type": "code",
   "execution_count": null,
   "metadata": {},
   "outputs": [],
   "source": [
    "atoms = u.select_atoms(\"all\")"
   ]
  },
  {
   "cell_type": "code",
   "execution_count": 10,
   "metadata": {},
   "outputs": [],
   "source": [
    "params = [65.3, 39.45, 39.01, 90., 117.54, 90.]"
   ]
  },
  {
   "cell_type": "code",
   "execution_count": 11,
   "metadata": {},
   "outputs": [],
   "source": [
    "a = params[0]\n",
    "b = params[1]\n",
    "c = params[2]\n",
    "\n",
    "alpha = params[3] * np.pi / 180.0\n",
    "beta = params[4] * np.pi / 180.0\n",
    "gamma = params[5] * np.pi / 180.0"
   ]
  },
  {
   "cell_type": "code",
   "execution_count": null,
   "metadata": {},
   "outputs": [],
   "source": [
    "vec_a = np.array([a, 0.0, 0.0])\n",
    "vec_b = np.array([b * np.cos(gamma), b * np.sin(gamma), 0.0])\n",
    "vec_c = np.array([ c * np.cos(beta), c * (np.cos(alpha) - np.cos(beta) * np.cos(gamma))/(np.sin(gamma)) ,\n",
    "                  c * np.sqrt(1. - np.cos(beta)**2 - ((np.cos(alpha) - np.cos(beta) * np.cos(gamma))/(np.sin(gamma)))**2 )])"
   ]
  },
  {
   "cell_type": "code",
   "execution_count": null,
   "metadata": {},
   "outputs": [],
   "source": [
    "vec_a"
   ]
  },
  {
   "cell_type": "code",
   "execution_count": null,
   "metadata": {},
   "outputs": [],
   "source": [
    "vec_b"
   ]
  },
  {
   "cell_type": "code",
   "execution_count": null,
   "metadata": {},
   "outputs": [],
   "source": [
    "vec_c"
   ]
  },
  {
   "cell_type": "code",
   "execution_count": null,
   "metadata": {},
   "outputs": [],
   "source": [
    "for s in u.segments:\n",
    "    print(s)"
   ]
  },
  {
   "cell_type": "code",
   "execution_count": null,
   "metadata": {},
   "outputs": [],
   "source": [
    "u = md.Universe('charmm-gui/uc_289_noE_A.pdb')\n",
    "u0 = md.Universe('charmm-gui/uc_289_noE_A.pdb')\n",
    "\n",
    "\n",
    "trans = [-1, 0, 1]\n",
    "counter = 1\n",
    "for aa in trans:\n",
    "    for bb in trans:\n",
    "        for cc in trans:\n",
    "            if (aa, bb, cc) != (0, 0, 0): \n",
    "                u1 = md.Universe('charmm-gui/uc_289_noE_A.pdb')\n",
    "                A = u1.add_Segment(segid='A{}{}{}'.format(aa + 1, bb + 1, cc + 1));\n",
    "                B = u1.add_Segment(segid='B{}{}{}'.format(aa + 1, bb + 1, cc + 1));\n",
    "                C = u1.add_Segment(segid='C{}{}{}'.format(aa + 1, bb + 1, cc + 1));\n",
    "                D = u1.add_Segment(segid='D{}{}{}'.format(aa + 1, bb + 1, cc + 1));\n",
    "                \n",
    "                u1.segments[0].residues.segments = A\n",
    "                u1.segments[2].residues.segments = B\n",
    "                u1.segments[4].residues.segments = C\n",
    "                u1.segments[6].residues.segments = D\n",
    "                \n",
    "                counter += 1\n",
    "                u1.atoms.positions += aa * vec_a + bb * vec_b + cc * vec_c\n",
    "                u0 = md.Merge(u0.atoms, u1.atoms)\n",
    "u0.atoms.write('charmm-gui/uc_{}.pdb'.format(counter))"
   ]
  },
  {
   "cell_type": "code",
   "execution_count": null,
   "metadata": {},
   "outputs": [],
   "source": [
    "ng.show_mdanalysis(u0, gui=True)"
   ]
  },
  {
   "cell_type": "code",
   "execution_count": null,
   "metadata": {},
   "outputs": [],
   "source": [
    "u0.segments.segids"
   ]
  },
  {
   "cell_type": "code",
   "execution_count": 12,
   "metadata": {},
   "outputs": [],
   "source": [
    "newa = a * 3\n",
    "newb = b * 3\n",
    "newc = c * 3"
   ]
  },
  {
   "cell_type": "code",
   "execution_count": 13,
   "metadata": {},
   "outputs": [],
   "source": [
    "cell = [newa, newb, newc, params[3], params[4], params[5]]"
   ]
  },
  {
   "cell_type": "code",
   "execution_count": 14,
   "metadata": {},
   "outputs": [
    {
     "data": {
      "text/plain": [
       "[195.89999999999998, 118.35000000000001, 117.03, 90.0, 117.54, 90.0]"
      ]
     },
     "execution_count": 14,
     "metadata": {},
     "output_type": "execute_result"
    }
   ],
   "source": [
    "cell"
   ]
  },
  {
   "cell_type": "code",
   "execution_count": 6,
   "metadata": {},
   "outputs": [],
   "source": [
    "univ = md.Universe('charmm-gui/uc_27.pdb')"
   ]
  },
  {
   "cell_type": "code",
   "execution_count": 7,
   "metadata": {},
   "outputs": [
    {
     "data": {
      "application/vnd.jupyter.widget-view+json": {
       "model_id": "02f0602e4a7e4332a2489cf8226ad791",
       "version_major": 2,
       "version_minor": 0
      },
      "text/plain": [
       "NGLWidget()"
      ]
     },
     "metadata": {},
     "output_type": "display_data"
    },
    {
     "data": {
      "application/vnd.jupyter.widget-view+json": {
       "model_id": "35a349d47197464089c5dc7594875405",
       "version_major": 2,
       "version_minor": 0
      },
      "text/plain": [
       "Tab(children=(Box(children=(Box(children=(Box(children=(Label(value='step'), IntSlider(value=1, min=-100)), la…"
      ]
     },
     "metadata": {},
     "output_type": "display_data"
    }
   ],
   "source": [
    "ng.show_mdanalysis(univ, gui=True)"
   ]
  },
  {
   "cell_type": "code",
   "execution_count": 8,
   "metadata": {},
   "outputs": [
    {
     "data": {
      "application/vnd.jupyter.widget-view+json": {
       "model_id": "52034727adc245bdb9b2458681261e1a",
       "version_major": 2,
       "version_minor": 0
      },
      "text/plain": [
       "NGLWidget()"
      ]
     },
     "metadata": {},
     "output_type": "display_data"
    }
   ],
   "source": [
    "ng.demo()"
   ]
  },
  {
   "cell_type": "code",
   "execution_count": null,
   "metadata": {},
   "outputs": [],
   "source": []
  }
 ],
 "metadata": {
  "kernelspec": {
   "display_name": "Python 3",
   "language": "python",
   "name": "python3"
  },
  "language_info": {
   "codemirror_mode": {
    "name": "ipython",
    "version": 3
   },
   "file_extension": ".py",
   "mimetype": "text/x-python",
   "name": "python",
   "nbconvert_exporter": "python",
   "pygments_lexer": "ipython3",
   "version": "3.6.8"
  }
 },
 "nbformat": 4,
 "nbformat_minor": 2
}
